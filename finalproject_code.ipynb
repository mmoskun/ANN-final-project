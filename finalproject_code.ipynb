{
 "cells": [
  {
   "cell_type": "markdown",
   "metadata": {},
   "source": [
    "# Using chords to classify songs as happy or sad"
   ]
  },
  {
   "cell_type": "markdown",
   "metadata": {},
   "source": [
    "This LSTM uses a sequence of 9 chords to classify a song as either happy or sad."
   ]
  },
  {
   "cell_type": "code",
   "execution_count": null,
   "metadata": {},
   "outputs": [],
   "source": [
    "from keras.preprocessing import sequence\n",
    "from keras.models import Sequential\n",
    "from keras.layers import Dense, Embedding\n",
    "from keras.layers import LSTM\n",
    "from keras.datasets import imdb\n",
    "import numpy as np\n",
    "    \n",
    "    \n",
    "# number of chords used.\n",
    "# key: # 1=am7, 2=f, 3=c, 4=e7, 5=d, 6=g, 7=em, 8=a,9=c#, 10=d#m, 11=f#, 12=a#m, 13=fm, 14=d#, 15=g#\n",
    "total_chords = 15\n",
    "# x training data\n",
    "x=[[[1], [2], [3], [4], [1], [2], [3], [4], [2]], #between the bars, sad\n",
    "   [[5], [6], [7], [8], [7], [6], [7], [8], [5]], #lua, sad\n",
    "   [[9], [10], [11], [9], [10], [11], [12], [13], [11]], #jackie and wilson, happy \n",
    "   [[3],[7],[1],[6],[3],[7],[1],[6],[2]], #fix you, sad\n",
    "   [[6],[5],[6],[6],[5],[6],[3],[6],[3]], # im a believer, happy\n",
    "   [[8],[6],[5],[8],[6],[5],[8],[6],[5]],# apunk, happy\n",
    "   [[14],[9],[12],[15],[14],[9],[12],[15],[14]], #casimir pulaski, sad\n",
    "   [[6],[3],[6],[3],[7],[8],[3],[6],[3]], #accidentally in love, happy\n",
    "   [[5],[8],[7],[6],[8],[5],[8],[7],[6]],#come on eileen,happy\n",
    "   [[11],[3],[4],[1],[2],[3],[6],[3],[3]], #be my mistake, sad\n",
    "   [[1],[2],[3],[1],[2],[3],[1],[2],[3]], #happier, sad\n",
    "   [[5],[7],[6],[8],[5],[7],[6],[8],[5]], #our song, happy\n",
    "   [[9],[13],[12],[15],[11],[12],[10],[15],[9]], #liability, sad\n",
    "   [[5],[3],[2],[6],[5],[3],[2],[6],[6]] #love me do, happy\n",
    "  ]\n",
    "  \n",
    "x=np.array(x, dtype=np.float32)\n",
    "\n",
    "# y training data\n",
    "# sad = 1, happy = 2\n",
    "y= np.array([1,1,2,1,2,2,1,2,2,1,1,2,1,2], dtype=np.int32) \n",
    "\n",
    "#convert to dummy variables\n",
    "y2 = np.zeros((y.shape[0], total_chords), dtype=np.int32)\n",
    "y2[np.arange(y.shape[0]), y] = 1.0\n",
    "\n",
    "model = Sequential()\n",
    "model.add(LSTM(128, dropout=0.2, recurrent_dropout=0.2, input_shape=(None,1)))\n",
    "model.add(Dense(15, activation='sigmoid'))\n",
    "model.compile(loss='binary_crossentropy',\n",
    "             optimizer='adam',\n",
    "             metrics = ['accuracy'])\n",
    "model.fit(x, y2, epochs=200)\n",
    "pred= model.predict(x)\n",
    "predict_classes = np.argmax(pred,axis=1)\n",
    "print(\"Predicted classes\", predict_classes)\n",
    "\n",
    "# Function to classify songs as happy or sad\n",
    "# takes song name and array of 9 chords (represented by their corresponding integer) as input\n",
    "def testSong(songName, chords):\n",
    "    newsong = []\n",
    "    for i in chords:\n",
    "        newsong = newsong+[[i]]\n",
    "    newsong = [newsong]\n",
    "    newsong=np.array(newsong, dtype=np.float32)\n",
    "    newsong=model.predict(newsong)\n",
    "    newsong=np.argmax(newsong,axis=1)\n",
    "    if newsong==1:\n",
    "        feeling = 'sad'\n",
    "    else:\n",
    "        feeling = 'happy'\n",
    "    print(songName, \"is\", feeling)\n",
    "\n",
    "\n",
    "testSong('electric love', [6, 3, 5, 7, 3, 5, 6, 7, 6])\n",
    "testSong('paper rings', [5, 6, 8, 5, 6, 8, 5, 5, 8])\n",
    "testSong('mess is mine', [7,3,6,7,3,6,7,3,6])\n",
    "testSong('random chords', [7,9,1,11,1,9,8,7,8])\n"
   ]
  }
 ],
 "metadata": {
  "kernelspec": {
   "display_name": "Python 3",
   "language": "python",
   "name": "python3"
  },
  "language_info": {
   "codemirror_mode": {
    "name": "ipython",
    "version": 3
   },
   "file_extension": ".py",
   "mimetype": "text/x-python",
   "name": "python",
   "nbconvert_exporter": "python",
   "pygments_lexer": "ipython3",
   "version": "3.7.4"
  }
 },
 "nbformat": 4,
 "nbformat_minor": 2
}
